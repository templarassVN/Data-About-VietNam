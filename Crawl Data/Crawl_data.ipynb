{
 "cells": [
  {
   "cell_type": "code",
   "execution_count": 1,
   "id": "b2643931-d808-4ce7-b9f7-706cfdae35e1",
   "metadata": {},
   "outputs": [],
   "source": [
    "import pandas as pd\n",
    "import numpy as np\n",
    "from bs4 import BeautifulSoup\n",
    "from selenium import webdriver\n",
    "from selenium.webdriver.common.keys import Keys\n",
    "from selenium.webdriver.support.ui import Select\n",
    "from selenium.webdriver.common.by import By\n",
    "from selenium.webdriver.support.ui import WebDriverWait\n",
    "from selenium.webdriver.support import expected_conditions as EC\n",
    "import time\n",
    "import os"
   ]
  },
  {
   "cell_type": "code",
   "execution_count": 2,
   "id": "a769e548-ded2-4143-bb8c-9986b5ceb0c8",
   "metadata": {},
   "outputs": [],
   "source": [
    "def Edit(weather):\n",
    "    weather = weather.split(' ')\n",
    "    weather[0] = weather[0][:-2]\n",
    "    weather[1] = weather[1][:-1]\n",
    "    weather[2] =  weather[2][:-3]\n",
    "    weather[3] =  weather[3][:-3]\n",
    "    return weather"
   ]
  },
  {
   "cell_type": "code",
   "execution_count": 3,
   "id": "c419cb0a-6638-48d6-a74b-4fd8e3bbcdeb",
   "metadata": {},
   "outputs": [],
   "source": [
    "def extract_row(values):\n",
    "    result = []\n",
    "    for value in values:\n",
    "        result.append(value.text)\n",
    "    result.pop(0)\n",
    "    return result"
   ]
  },
  {
   "cell_type": "code",
   "execution_count": 4,
   "id": "f57303b4-da31-4a91-967a-ca72f5955101",
   "metadata": {},
   "outputs": [],
   "source": [
    "def request_WEB(browser, Stations):\n",
    "    '''browser là cái driver \n",
    "       date mặc định là 0: hôm nay 1: hôm qua 2: hôm kia \n",
    "    '''\n",
    "    #Stations = ['Cao Bằng: Trạm khí TTQT phường Sông Hiến (KK)','Phú Thọ: đường Hùng Vương - Tp Việt Trì (KK)','Thái nguyên: Đường Hùng Vương - Tp Thái Nguyên (KK)','Hà Nội: 556 Nguyễn Văn Cừ (KK)','Bắc Ninh: gần KCN Quế Võ - Tp Bắc Ninh (KK)','Hưng Yên: Sở TNMT - 437 Nguyễn Văn Linh, Tp Hưng Yên (KK)','Quảng Ninh: Phường Cẩm Thịnh - Cẩm Phả (KK)']\n",
    "    select = Select(browser.find_element_by_id('cbbStations'))\n",
    "    data_per_date = []\n",
    "    for stat in Stations: \n",
    "        data_per_hour = []\n",
    "        select.select_by_visible_text(stat)\n",
    "        time.sleep(5)\n",
    "        \n",
    "        Province = browser.find_element_by_id('station_province').text.split(':')[-1].strip()\n",
    "        data_per_hour.append(Province)\n",
    "        longlat = browser.find_element_by_id('longlat').text.split(' ')\n",
    "        data_per_hour.append((longlat[2],longlat[6]))\n",
    "        weather = browser.find_element_by_class_name('weather').text\n",
    "        data_per_hour.extend(Edit(weather))\n",
    "        \n",
    "        soup=BeautifulSoup(browser.page_source,'html.parser')\n",
    "        table= soup.find('table',{'id': 'custom_datatable_1'})\n",
    "        body = table.find('tbody')\n",
    "        lastest_hour = body.find('tr')\n",
    "        values = lastest_hour.find_all('td')\n",
    "        data_per_hour.extend(extract_row(values))\n",
    "        \n",
    "        data_per_date.append(data_per_hour)\n",
    "        \n",
    "        \n",
    "    return data_per_date"
   ]
  },
  {
   "cell_type": "code",
   "execution_count": 5,
   "id": "67caaf6d-b075-4dc6-98fd-83d0494e82f6",
   "metadata": {},
   "outputs": [],
   "source": [
    "def ba_mien(Mien):\n",
    "    the_file = 0\n",
    "    Stations = []\n",
    "    \n",
    "    if Mien == 1:\n",
    "        name = \"aqi_MienBac.txt\"\n",
    "        if os.path.exists('./aqi_MienBac.txt') == False:\n",
    "            the_file = open(name,'a',encoding='utf-8')\n",
    "            the_file.write(\"Tỉnh\\tVị trí\\tNhiệt độ\\tĐộ ẩm\\tTốc độ gió\\tÁp suất\\tNgày giờ\\tVN_AQI\\tNO2\\tO3\\tPM-10\\tPM-2-5\\tSO2\" + '\\n')\n",
    "        the_file = open(name,'a',encoding='utf-8')\n",
    "        Stations = ['Gia Lai: TTQT TN&MT - P.Thống Nhất - TP Pleiku (KK)','Đà Nẵng: 41 đường Lê Duẩn (KK)','Cao Bằng: Trạm khí TTQT phường Sông Hiến (KK)','Phú Thọ: đường Hùng Vương - Tp Việt Trì (KK)','Thái nguyên: Đường Hùng Vương - Tp Thái Nguyên (KK)','Hà Nội: 556 Nguyễn Văn Cừ (KK)','Bắc Ninh: gần KCN Quế Võ - Tp Bắc Ninh (KK)','Hưng Yên: Sở TNMT - 437 Nguyễn Văn Linh, Tp Hưng Yên (KK)','Quảng Ninh: Phường Cẩm Thịnh - Cẩm Phả (KK)']\n",
    "        \n",
    "    if Mien == 2:\n",
    "        name = \"aqi_MienTrung.txt\"\n",
    "        if os.path.exists('./aqi_MienTrung.txt') == False:\n",
    "            the_file = open(name,'a',encoding='utf-8')\n",
    "            the_file.write(\"Tỉnh\\tVị trí\\tNhiệt độ\\tĐộ ẩm\\tTốc độ gió\\tÁp suất\\tNgày giờ\\tVN_AQI\\tPM-10\\tPM-2-5\" + '\\n')\n",
    "        the_file = open(name,'a',encoding='utf-8')\n",
    "        Stations = ['Nghệ An: Trường Thi, Thành phố Vinh - KTTV (KK)']\n",
    "    \n",
    "    if Mien == 3:\n",
    "        name = \"aqi_MienNam.txt\"\n",
    "        if os.path.exists('./aqi_MienNam.txt') == False:\n",
    "            the_file = open(name,'a',encoding='utf-8')\n",
    "            the_file.write(\"Tỉnh\\tVị trí\\tNhiệt độ\\tĐộ ẩm\\tTốc độ gió\\tÁp suất\\tNgày giờ\\tVN_AQI\\tPM-10\\tPM-2-5\" + '\\n')\n",
    "        the_file = open(name,'a',encoding='utf-8')\n",
    "        Stations = ['Tp Hồ Chí Minh: Đường Nguyễn Văn Tạo, Ấp 3, Nhà Bè - KTTV (KK)','Cần Thơ: Ninh Kiều - KTTV (KK)']\n",
    "    \n",
    "    data_all_station = request_WEB(browser,Stations)\n",
    "    for data in data_all_station:\n",
    "        the_file.write('\\t'.join(str(v) for v in data) + '\\n')\n",
    "    the_file.close()\n",
    "    "
   ]
  },
  {
   "cell_type": "code",
   "execution_count": null,
   "id": "1956143d-2b5a-4a01-8047-5281cb3d21d0",
   "metadata": {},
   "outputs": [],
   "source": [
    "def refresh(browser,flag):\n",
    "    try:\n",
    "        browser.set_page_load_timeout(5)\n",
    "        flag = True\n",
    "    except:\n",
    "        flag = False\n",
    "        browser.refresh()\n",
    "    return flag"
   ]
  },
  {
   "cell_type": "code",
   "execution_count": 6,
   "id": "2114f963-e6d7-4d09-9556-3fc2ba7896ed",
   "metadata": {},
   "outputs": [],
   "source": [
    "#Vào trang\n",
    "URL = 'http://enviinfo.cem.gov.vn/'\n",
    "browser = webdriver.Chrome(executable_path='./chromedriver.exe') \n",
    "browser.maximize_window()\n",
    "\n",
    "flag = False\n",
    "\n",
    "while flag == False:\n",
    "    flag = refresh(browser,flag)\n",
    "\n",
    "time.sleep(7)\n",
    "browser.find_element_by_xpath('/html/body/div[2]/div[1]/div/div[3]/div[1]/div[1]/div/div[1]/div/div[1]/div[1]').click()\n",
    "container = browser.find_element_by_id(\"cbbStations\")\n",
    "browser.execute_script(\"arguments[0].style.display = 'block';\", container)"
   ]
  },
  {
   "cell_type": "code",
   "execution_count": 7,
   "id": "e2a522a4-5736-4009-a91a-6f0d9d836f53",
   "metadata": {},
   "outputs": [],
   "source": [
    "#name1 = \"aqi_MienBac.txt\"\n",
    "ba_mien(1)\n",
    "ba_mien(2)\n",
    "ba_mien(3)"
   ]
  },
  {
   "cell_type": "markdown",
   "id": "4b871e38-af17-43bd-8f9a-910125423125",
   "metadata": {},
   "source": [
    "import os\n",
    "if os.path.exists('./aqi_data.txt') == False:\n",
    "    the_file = open(name,'a',encoding='utf-8')\n",
    "    the_file.write(\"Tỉnh\\tVị trí\\tNhiệt độ\\tĐộ ẩm\\tTốc độ gió\\tÁp suất\\tNgày giờ\\tVN_AQI\\tNO2\\tO3\\tPM-10\\tPM-2-5\\tSO2\" + '\\n')\n",
    "\n",
    "the_file = open(name,'a',encoding='utf-8')\n",
    "Stations = ['Cao Bằng: Trạm khí TTQT phường Sông Hiến (KK)','Phú Thọ: đường Hùng Vương - Tp Việt Trì (KK)','Thái nguyên: Đường Hùng Vương - Tp Thái Nguyên (KK)','Hà Nội: 556 Nguyễn Văn Cừ (KK)','Bắc Ninh: gần KCN Quế Võ - Tp Bắc Ninh (KK)','Hưng Yên: Sở TNMT - 437 Nguyễn Văn Linh, Tp Hưng Yên (KK)','Quảng Ninh: Phường Cẩm Thịnh - Cẩm Phả (KK)']\n",
    "data_all_station = request_WEB(browser)\n",
    "for data in data_all_station:\n",
    "    the_file.write('\\t'.join(str(v) for v in data) + '\\n')"
   ]
  },
  {
   "cell_type": "code",
   "execution_count": 8,
   "id": "585bfae3-d544-4f4c-8c5f-0af51e912ba4",
   "metadata": {},
   "outputs": [],
   "source": [
    "browser.close()"
   ]
  }
 ],
 "metadata": {
  "kernelspec": {
   "display_name": "Python 3",
   "language": "python",
   "name": "python3"
  },
  "language_info": {
   "codemirror_mode": {
    "name": "ipython",
    "version": 3
   },
   "file_extension": ".py",
   "mimetype": "text/x-python",
   "name": "python",
   "nbconvert_exporter": "python",
   "pygments_lexer": "ipython3",
   "version": "3.8.3"
  }
 },
 "nbformat": 4,
 "nbformat_minor": 5
}
